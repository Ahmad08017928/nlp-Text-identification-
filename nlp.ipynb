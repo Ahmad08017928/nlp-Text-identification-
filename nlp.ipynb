{
 "cells": [
  {
   "cell_type": "code",
   "execution_count": 1,
   "metadata": {},
   "outputs": [],
   "source": [
    "import pandas as pd\n",
    "import numpy as np\n",
    "import string\n",
    "import re\n",
    "import nltk\n",
    "from Sastrawi.StopWordRemover.StopWordRemoverFactory import StopWordRemoverFactory\n",
    "from Sastrawi.Stemmer.StemmerFactory import StemmerFactory"
   ]
  },
  {
   "cell_type": "code",
   "execution_count": 2,
   "metadata": {},
   "outputs": [
    {
     "name": "stderr",
     "output_type": "stream",
     "text": [
      "<>:1: SyntaxWarning: invalid escape sequence '\\d'\n",
      "<>:1: SyntaxWarning: invalid escape sequence '\\d'\n",
      "C:\\Users\\MyBook PRO K7V\\AppData\\Local\\Temp\\ipykernel_13700\\228168114.py:1: SyntaxWarning: invalid escape sequence '\\d'\n",
      "  df = pd.read_csv('data\\dataset_tweet_sentiment_opini_film.csv')\n"
     ]
    }
   ],
   "source": [
    "df = pd.read_csv('data\\dataset_tweet_sentiment_opini_film.csv')"
   ]
  },
  {
   "cell_type": "code",
   "execution_count": 3,
   "metadata": {},
   "outputs": [],
   "source": [
    "df = df.drop('Id', axis='columns')"
   ]
  },
  {
   "cell_type": "code",
   "execution_count": 4,
   "metadata": {},
   "outputs": [],
   "source": [
    "def preprocass(text):\n",
    "    text = text.lower()\n",
    "    text = re.sub(r'\\d+', '', text)\n",
    "    text = text.translate(str.maketrans('', '', string.punctuation))\n",
    "    text = text.strip()\n",
    "    return text"
   ]
  },
  {
   "cell_type": "code",
   "execution_count": 5,
   "metadata": {},
   "outputs": [],
   "source": [
    "def tokenize(text):\n",
    "    return text.lower().split()"
   ]
  },
  {
   "cell_type": "code",
   "execution_count": 6,
   "metadata": {},
   "outputs": [],
   "source": [
    "factory = StopWordRemoverFactory()\n",
    "stopoword = factory.get_stop_words()\n",
    "def remove_stopwords(tokens):\n",
    "    cleaning_text = [token for token in tokens if token not in stopoword]\n",
    "    return cleaning_text"
   ]
  },
  {
   "cell_type": "code",
   "execution_count": 7,
   "metadata": {},
   "outputs": [],
   "source": [
    "stem = StemmerFactory()\n",
    "stemmer = stem.create_stemmer()\n",
    "def stem_token(tokens):\n",
    "    stemmid_tokens = [stemmer.stem(token) for token in tokens]\n",
    "    return stemmid_tokens"
   ]
  },
  {
   "cell_type": "code",
   "execution_count": 8,
   "metadata": {},
   "outputs": [],
   "source": [
    "df['clean text'] = df['Text Tweet'].apply(preprocass)\n",
    "df['tokens'] = df['clean text'].apply(tokenize)\n",
    "df['stop'] = df['tokens'].apply(remove_stopwords)\n",
    "df['stemmid_tokens'] = df['stop'].apply(stem_token)"
   ]
  },
  {
   "cell_type": "code",
   "execution_count": null,
   "metadata": {},
   "outputs": [],
   "source": [
    "df.to_csv('data/data clean', index=False)"
   ]
  },
  {
   "cell_type": "code",
   "execution_count": 9,
   "metadata": {},
   "outputs": [],
   "source": [
    "corpus = df['stemmid_tokens'].apply(lambda x: ' '.join(x))"
   ]
  },
  {
   "cell_type": "code",
   "execution_count": 10,
   "metadata": {},
   "outputs": [],
   "source": [
    "def compute_idf(word, corpus):\n",
    "    N = len(corpus)\n",
    "    count = sum(1 for tokens in corpus if word in tokens)\n",
    "    if count == 0:\n",
    "        return 0\n",
    "    else :\n",
    "        return np.log(N/count + 1)"
   ]
  },
  {
   "cell_type": "code",
   "execution_count": 11,
   "metadata": {},
   "outputs": [],
   "source": [
    "vocab = set(word for text in corpus for word in text)\n",
    "idfs = {word : compute_idf(word, corpus)for word in vocab}"
   ]
  },
  {
   "cell_type": "code",
   "execution_count": 12,
   "metadata": {},
   "outputs": [],
   "source": [
    "def corpus_tfidf(text, idfs):\n",
    "    tfidf = {}\n",
    "    total_word = len(text)\n",
    "    for word in set(text):\n",
    "        tf = text.count(word)/total_word\n",
    "        tfidf[word] = tf*idfs.get(word, 0)\n",
    "    return tfidf"
   ]
  },
  {
   "cell_type": "code",
   "execution_count": 13,
   "metadata": {},
   "outputs": [
    {
     "name": "stdout",
     "output_type": "stream",
     "text": [
      "0      <class 'list'>\n",
      "1      <class 'list'>\n",
      "2      <class 'list'>\n",
      "3      <class 'list'>\n",
      "4      <class 'list'>\n",
      "            ...      \n",
      "195    <class 'list'>\n",
      "196    <class 'list'>\n",
      "197    <class 'list'>\n",
      "198    <class 'list'>\n",
      "199    <class 'list'>\n",
      "Name: stemmid_tokens, Length: 200, dtype: object\n",
      "0\n"
     ]
    }
   ],
   "source": [
    "print(df['stemmid_tokens'].apply(type))\n",
    "\n",
    "print(df['stemmid_tokens'].isnull().sum())"
   ]
  },
  {
   "cell_type": "code",
   "execution_count": 14,
   "metadata": {},
   "outputs": [],
   "source": [
    "tfidf_text = [compute_idf(text, idfs) for text in corpus]"
   ]
  },
  {
   "cell_type": "code",
   "execution_count": 15,
   "metadata": {},
   "outputs": [],
   "source": [
    "def cosine_similarity(v1, v2):\n",
    "    dot_product = np.dot(v1, v2)\n",
    "    norm_v1 = np.linalg.norm(v1)\n",
    "    norm_v2 = np.linalg.norm(v2)\n",
    "    return dot_product / (norm_v1 * norm_v2)"
   ]
  },
  {
   "cell_type": "code",
   "execution_count": 16,
   "metadata": {},
   "outputs": [],
   "source": [
    "def create_features_vector(text, vocabulary):\n",
    "    vector = [1 if word in text else 0 for word in vocabulary]\n",
    "    return np.array(vector)"
   ]
  },
  {
   "cell_type": "code",
   "execution_count": 21,
   "metadata": {},
   "outputs": [],
   "source": [
    "def knn_classify(k, sample_vector, data, labels, vocabulary):\n",
    "    similarities = []\n",
    "    for i, row in data.iterrows():\n",
    "        text_tokens = row['Sentiment'].split()\n",
    "        text_vector = create_features_vector(text_tokens, vocabulary)\n",
    "        similarity  = cosine_similarity(sample_vector, text_vector)\n",
    "        similarities.append((similarity, labels[i]))\n",
    "    similarities.sort(reverse=True)\n",
    "    k_nearest = similarities[:k]\n",
    "    counts = {}\n",
    "    for _, label in k_nearest:\n",
    "        counts[label] = counts.get(label, 0) + 1\n",
    "    majority_label = max(counts, key = counts.get)\n",
    "    return majority_label"
   ]
  },
  {
   "cell_type": "code",
   "execution_count": 18,
   "metadata": {},
   "outputs": [],
   "source": [
    "corpuss = ' '.join(corpus).split()\n",
    "vocabulary = set(corpuss)"
   ]
  },
  {
   "cell_type": "code",
   "execution_count": 19,
   "metadata": {},
   "outputs": [],
   "source": [
    "sample_text = \"saya suka olahraga\"\n",
    "sample_tokens = stem_token(tokenize(preprocass(sample_text)))\n",
    "sample_vector = create_features_vector(sample_tokens, vocabulary)"
   ]
  },
  {
   "cell_type": "code",
   "execution_count": 22,
   "metadata": {},
   "outputs": [
    {
     "name": "stdout",
     "output_type": "stream",
     "text": [
      "predicted_label : negative\n"
     ]
    },
    {
     "name": "stderr",
     "output_type": "stream",
     "text": [
      "C:\\Users\\MyBook PRO K7V\\AppData\\Local\\Temp\\ipykernel_13700\\1871220151.py:5: RuntimeWarning: invalid value encountered in scalar divide\n",
      "  return dot_product / (norm_v1 * norm_v2)\n"
     ]
    }
   ],
   "source": [
    "k = 3\n",
    "predicted_label = knn_classify(k, sample_vector, df, df['Sentiment'], vocabulary)\n",
    "print(\"predicted_label :\", predicted_label)"
   ]
  }
 ],
 "metadata": {
  "kernelspec": {
   "display_name": "Python 3",
   "language": "python",
   "name": "python3"
  },
  "language_info": {
   "codemirror_mode": {
    "name": "ipython",
    "version": 3
   },
   "file_extension": ".py",
   "mimetype": "text/x-python",
   "name": "python",
   "nbconvert_exporter": "python",
   "pygments_lexer": "ipython3",
   "version": "3.12.2"
  }
 },
 "nbformat": 4,
 "nbformat_minor": 2
}
